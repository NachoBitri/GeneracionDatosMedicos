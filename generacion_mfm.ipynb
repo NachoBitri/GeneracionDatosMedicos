{
 "cells": [
  {
   "cell_type": "code",
   "execution_count": 1,
   "metadata": {
    "collapsed": true
   },
   "outputs": [],
   "source": [
    "from sqlalchemy import create_engine\n",
    "from sqlalchemy.sql.ddl import CreateSchema\n",
    "from tablas_mfm import *\n",
    "import numpy as np\n",
    "import pandas as pd\n",
    "import generador_filas as gf\n"
   ]
  },
  {
   "cell_type": "code",
   "execution_count": 2,
   "outputs": [],
   "source": [
    "#Devuelve una tabla con nombre \"nombre\"\n",
    "def string_to_table(nombre):\n",
    "    for tb in metadata.sorted_tables:\n",
    "        if tb.name == nombre:\n",
    "            return tb\n",
    "    raise Exception(\"la tabla \"+nombre+\" no existe\")\n"
   ],
   "metadata": {
    "collapsed": false,
    "pycharm": {
     "name": "#%%\n"
    }
   }
  },
  {
   "cell_type": "code",
   "execution_count": 3,
   "outputs": [],
   "source": [
    "#Copia la tabla \"nombreTabla\" de la BBDD \"dbO\" a la BBDD \"dbD\"\n",
    "def copiarTabla(dbO,dbD, nombreTabla):\n",
    "    if not isinstance(nombreTabla,Table) :\n",
    "        raise Exception(\"la tabla \"+nombreTabla+\" no existe\")\n",
    "    else :\n",
    "        result = dbO.execute(nombreTabla.select())\n",
    "        column=nombreTabla.columns.keys()\n",
    "        filas = []\n",
    "        for r in result:\n",
    "            fila = {}\n",
    "            for i in range(len(column)):\n",
    "                fila.update({column[i] : r[i]})\n",
    "            filas.append(fila)\n",
    "\n",
    "        insercion = nombreTabla.insert().values(filas)\n",
    "        dbD.execute(insercion)\n"
   ],
   "metadata": {
    "collapsed": false,
    "pycharm": {
     "name": "#%%\n"
    }
   }
  },
  {
   "cell_type": "code",
   "execution_count": 4,
   "outputs": [],
   "source": [
    "#Crea las conexiones con las BBDD origen y destino\n",
    "#db_destino_string = \"postgresql://\"\n",
    "#db_origen_string = \"postgresql://\"\n",
    "\n",
    "\n",
    "dbDes = create_engine(db_destino_string)\n",
    "dbOr = create_engine(db_origen_string)"
   ],
   "metadata": {
    "collapsed": false,
    "pycharm": {
     "name": "#%%\n"
    }
   }
  },
  {
   "cell_type": "code",
   "execution_count": 6,
   "outputs": [
    {
     "data": {
      "text/plain": "<sqlalchemy.engine.cursor.LegacyCursorResult at 0x1223b5b0>"
     },
     "execution_count": 6,
     "metadata": {},
     "output_type": "execute_result"
    }
   ],
   "source": [
    "#Crea el esquema para las tablas en la BBDD destino\n",
    "dbDes.execute(CreateSchema('mfm'))"
   ],
   "metadata": {
    "collapsed": false,
    "pycharm": {
     "name": "#%%\n"
    }
   }
  },
  {
   "cell_type": "code",
   "execution_count": 7,
   "outputs": [],
   "source": [
    "#Crea las tablas en la BBDD destino\n",
    "metadata.create_all(dbDes)\n"
   ],
   "metadata": {
    "collapsed": false,
    "pycharm": {
     "name": "#%%\n"
    }
   }
  },
  {
   "cell_type": "code",
   "execution_count": 9,
   "outputs": [
    {
     "name": "stderr",
     "output_type": "stream",
     "text": [
      "Traceback (most recent call last):\n",
      "  File \"C:\\Users\\Usuario\\AppData\\Local\\JetBrains\\Toolbox\\apps\\PyCharm-P\\ch-0\\212.5284.44\\plugins\\python\\helpers\\pydev\\_pydevd_bundle\\pydevd_comm.py\", line 292, in _on_run\n",
      "    r = self.sock.recv(1024)\n",
      "ConnectionAbortedError: [WinError 10053] Se ha anulado una conexión establecida por el software en su equipo host\n"
     ]
    },
    {
     "ename": "KeyboardInterrupt",
     "evalue": "",
     "output_type": "error",
     "traceback": [
      "\u001B[1;31m---------------------------------------------------------------------------\u001B[0m",
      "\u001B[1;31mKeyboardInterrupt\u001B[0m                         Traceback (most recent call last)",
      "\u001B[1;32m<ipython-input-9-cf8f72f05987>\u001B[0m in \u001B[0;36m<module>\u001B[1;34m\u001B[0m\n\u001B[0;32m      5\u001B[0m \u001B[1;32mfor\u001B[0m \u001B[0mtabla\u001B[0m \u001B[1;32min\u001B[0m \u001B[0mtablas_mfm\u001B[0m\u001B[1;33m:\u001B[0m\u001B[1;33m\u001B[0m\u001B[0m\n\u001B[0;32m      6\u001B[0m     \u001B[1;32mif\u001B[0m \u001B[0mtabla\u001B[0m\u001B[1;33m[\u001B[0m\u001B[1;36m1\u001B[0m\u001B[1;33m]\u001B[0m \u001B[1;33m==\u001B[0m \u001B[1;34m'D'\u001B[0m \u001B[1;33m:\u001B[0m\u001B[1;33m\u001B[0m\u001B[0m\n\u001B[1;32m----> 7\u001B[1;33m         \u001B[0mcopiarTabla\u001B[0m\u001B[1;33m(\u001B[0m\u001B[0mdbOr\u001B[0m\u001B[1;33m,\u001B[0m\u001B[0mdbDes\u001B[0m\u001B[1;33m,\u001B[0m\u001B[0mstring_to_table\u001B[0m\u001B[1;33m(\u001B[0m\u001B[0mtabla\u001B[0m\u001B[1;33m[\u001B[0m\u001B[1;36m0\u001B[0m\u001B[1;33m]\u001B[0m\u001B[1;33m)\u001B[0m\u001B[1;33m)\u001B[0m\u001B[1;33m\u001B[0m\u001B[0m\n\u001B[0m\u001B[0;32m      8\u001B[0m \u001B[1;33m\u001B[0m\u001B[0m\n\u001B[0;32m      9\u001B[0m \u001B[1;33m\u001B[0m\u001B[0m\n",
      "\u001B[1;32m<ipython-input-3-459293be40ab>\u001B[0m in \u001B[0;36mcopiarTabla\u001B[1;34m(dbO, dbD, nombreTabla)\u001B[0m\n\u001B[0;32m     14\u001B[0m \u001B[1;33m\u001B[0m\u001B[0m\n\u001B[0;32m     15\u001B[0m         \u001B[0minsercion\u001B[0m \u001B[1;33m=\u001B[0m \u001B[0mnombreTabla\u001B[0m\u001B[1;33m.\u001B[0m\u001B[0minsert\u001B[0m\u001B[1;33m(\u001B[0m\u001B[1;33m)\u001B[0m\u001B[1;33m.\u001B[0m\u001B[0mvalues\u001B[0m\u001B[1;33m(\u001B[0m\u001B[0mfilas\u001B[0m\u001B[1;33m)\u001B[0m\u001B[1;33m\u001B[0m\u001B[0m\n\u001B[1;32m---> 16\u001B[1;33m         \u001B[0mdbD\u001B[0m\u001B[1;33m.\u001B[0m\u001B[0mexecute\u001B[0m\u001B[1;33m(\u001B[0m\u001B[0minsercion\u001B[0m\u001B[1;33m)\u001B[0m\u001B[1;33m\u001B[0m\u001B[0m\n\u001B[0m\u001B[0;32m     17\u001B[0m \u001B[1;33m\u001B[0m\u001B[0m\n\u001B[0;32m     18\u001B[0m \u001B[1;33m\u001B[0m\u001B[0m\n",
      "\u001B[1;32m<string>\u001B[0m in \u001B[0;36mexecute\u001B[1;34m(self, statement, *multiparams, **params)\u001B[0m\n",
      "\u001B[1;32m~\\AppData\\Local\\Programs\\Python\\Python36-32\\lib\\site-packages\\sqlalchemy\\util\\deprecations.py\u001B[0m in \u001B[0;36mwarned\u001B[1;34m(fn, *args, **kwargs)\u001B[0m\n\u001B[0;32m    388\u001B[0m         \u001B[1;32mif\u001B[0m \u001B[1;32mnot\u001B[0m \u001B[0mskip_warning\u001B[0m\u001B[1;33m:\u001B[0m\u001B[1;33m\u001B[0m\u001B[0m\n\u001B[0;32m    389\u001B[0m             \u001B[0m_warn_with_version\u001B[0m\u001B[1;33m(\u001B[0m\u001B[0mmessage\u001B[0m\u001B[1;33m,\u001B[0m \u001B[0mversion\u001B[0m\u001B[1;33m,\u001B[0m \u001B[0mwtype\u001B[0m\u001B[1;33m,\u001B[0m \u001B[0mstacklevel\u001B[0m\u001B[1;33m=\u001B[0m\u001B[1;36m3\u001B[0m\u001B[1;33m)\u001B[0m\u001B[1;33m\u001B[0m\u001B[0m\n\u001B[1;32m--> 390\u001B[1;33m         \u001B[1;32mreturn\u001B[0m \u001B[0mfn\u001B[0m\u001B[1;33m(\u001B[0m\u001B[1;33m*\u001B[0m\u001B[0margs\u001B[0m\u001B[1;33m,\u001B[0m \u001B[1;33m**\u001B[0m\u001B[0mkwargs\u001B[0m\u001B[1;33m)\u001B[0m\u001B[1;33m\u001B[0m\u001B[0m\n\u001B[0m\u001B[0;32m    391\u001B[0m \u001B[1;33m\u001B[0m\u001B[0m\n\u001B[0;32m    392\u001B[0m     \u001B[0mdoc\u001B[0m \u001B[1;33m=\u001B[0m \u001B[0mfunc\u001B[0m\u001B[1;33m.\u001B[0m\u001B[0m__doc__\u001B[0m \u001B[1;32mis\u001B[0m \u001B[1;32mnot\u001B[0m \u001B[1;32mNone\u001B[0m \u001B[1;32mand\u001B[0m \u001B[0mfunc\u001B[0m\u001B[1;33m.\u001B[0m\u001B[0m__doc__\u001B[0m \u001B[1;32mor\u001B[0m \u001B[1;34m\"\"\u001B[0m\u001B[1;33m\u001B[0m\u001B[0m\n",
      "\u001B[1;32m~\\AppData\\Local\\Programs\\Python\\Python36-32\\lib\\site-packages\\sqlalchemy\\engine\\base.py\u001B[0m in \u001B[0;36mexecute\u001B[1;34m(self, statement, *multiparams, **params)\u001B[0m\n\u001B[0;32m   3106\u001B[0m         \"\"\"\n\u001B[0;32m   3107\u001B[0m         \u001B[0mconnection\u001B[0m \u001B[1;33m=\u001B[0m \u001B[0mself\u001B[0m\u001B[1;33m.\u001B[0m\u001B[0mconnect\u001B[0m\u001B[1;33m(\u001B[0m\u001B[0mclose_with_result\u001B[0m\u001B[1;33m=\u001B[0m\u001B[1;32mTrue\u001B[0m\u001B[1;33m)\u001B[0m\u001B[1;33m\u001B[0m\u001B[0m\n\u001B[1;32m-> 3108\u001B[1;33m         \u001B[1;32mreturn\u001B[0m \u001B[0mconnection\u001B[0m\u001B[1;33m.\u001B[0m\u001B[0mexecute\u001B[0m\u001B[1;33m(\u001B[0m\u001B[0mstatement\u001B[0m\u001B[1;33m,\u001B[0m \u001B[1;33m*\u001B[0m\u001B[0mmultiparams\u001B[0m\u001B[1;33m,\u001B[0m \u001B[1;33m**\u001B[0m\u001B[0mparams\u001B[0m\u001B[1;33m)\u001B[0m\u001B[1;33m\u001B[0m\u001B[0m\n\u001B[0m\u001B[0;32m   3109\u001B[0m \u001B[1;33m\u001B[0m\u001B[0m\n\u001B[0;32m   3110\u001B[0m     @util.deprecated_20(\n",
      "\u001B[1;32m~\\AppData\\Local\\Programs\\Python\\Python36-32\\lib\\site-packages\\sqlalchemy\\engine\\base.py\u001B[0m in \u001B[0;36mexecute\u001B[1;34m(self, statement, *multiparams, **params)\u001B[0m\n\u001B[0;32m   1261\u001B[0m             )\n\u001B[0;32m   1262\u001B[0m         \u001B[1;32melse\u001B[0m\u001B[1;33m:\u001B[0m\u001B[1;33m\u001B[0m\u001B[0m\n\u001B[1;32m-> 1263\u001B[1;33m             \u001B[1;32mreturn\u001B[0m \u001B[0mmeth\u001B[0m\u001B[1;33m(\u001B[0m\u001B[0mself\u001B[0m\u001B[1;33m,\u001B[0m \u001B[0mmultiparams\u001B[0m\u001B[1;33m,\u001B[0m \u001B[0mparams\u001B[0m\u001B[1;33m,\u001B[0m \u001B[0m_EMPTY_EXECUTION_OPTS\u001B[0m\u001B[1;33m)\u001B[0m\u001B[1;33m\u001B[0m\u001B[0m\n\u001B[0m\u001B[0;32m   1264\u001B[0m \u001B[1;33m\u001B[0m\u001B[0m\n\u001B[0;32m   1265\u001B[0m     \u001B[1;32mdef\u001B[0m \u001B[0m_execute_function\u001B[0m\u001B[1;33m(\u001B[0m\u001B[0mself\u001B[0m\u001B[1;33m,\u001B[0m \u001B[0mfunc\u001B[0m\u001B[1;33m,\u001B[0m \u001B[0mmultiparams\u001B[0m\u001B[1;33m,\u001B[0m \u001B[0mparams\u001B[0m\u001B[1;33m,\u001B[0m \u001B[0mexecution_options\u001B[0m\u001B[1;33m)\u001B[0m\u001B[1;33m:\u001B[0m\u001B[1;33m\u001B[0m\u001B[0m\n",
      "\u001B[1;32m~\\AppData\\Local\\Programs\\Python\\Python36-32\\lib\\site-packages\\sqlalchemy\\sql\\elements.py\u001B[0m in \u001B[0;36m_execute_on_connection\u001B[1;34m(self, connection, multiparams, params, execution_options, _force)\u001B[0m\n\u001B[0;32m    322\u001B[0m         \u001B[1;32mif\u001B[0m \u001B[0m_force\u001B[0m \u001B[1;32mor\u001B[0m \u001B[0mself\u001B[0m\u001B[1;33m.\u001B[0m\u001B[0msupports_execution\u001B[0m\u001B[1;33m:\u001B[0m\u001B[1;33m\u001B[0m\u001B[0m\n\u001B[0;32m    323\u001B[0m             return connection._execute_clauseelement(\n\u001B[1;32m--> 324\u001B[1;33m                 \u001B[0mself\u001B[0m\u001B[1;33m,\u001B[0m \u001B[0mmultiparams\u001B[0m\u001B[1;33m,\u001B[0m \u001B[0mparams\u001B[0m\u001B[1;33m,\u001B[0m \u001B[0mexecution_options\u001B[0m\u001B[1;33m\u001B[0m\u001B[0m\n\u001B[0m\u001B[0;32m    325\u001B[0m             )\n\u001B[0;32m    326\u001B[0m         \u001B[1;32melse\u001B[0m\u001B[1;33m:\u001B[0m\u001B[1;33m\u001B[0m\u001B[0m\n",
      "\u001B[1;32m~\\AppData\\Local\\Programs\\Python\\Python36-32\\lib\\site-packages\\sqlalchemy\\engine\\base.py\u001B[0m in \u001B[0;36m_execute_clauseelement\u001B[1;34m(self, elem, multiparams, params, execution_options)\u001B[0m\n\u001B[0;32m   1448\u001B[0m             \u001B[0mfor_executemany\u001B[0m\u001B[1;33m=\u001B[0m\u001B[0mfor_executemany\u001B[0m\u001B[1;33m,\u001B[0m\u001B[1;33m\u001B[0m\u001B[0m\n\u001B[0;32m   1449\u001B[0m             \u001B[0mschema_translate_map\u001B[0m\u001B[1;33m=\u001B[0m\u001B[0mschema_translate_map\u001B[0m\u001B[1;33m,\u001B[0m\u001B[1;33m\u001B[0m\u001B[0m\n\u001B[1;32m-> 1450\u001B[1;33m             \u001B[0mlinting\u001B[0m\u001B[1;33m=\u001B[0m\u001B[0mself\u001B[0m\u001B[1;33m.\u001B[0m\u001B[0mdialect\u001B[0m\u001B[1;33m.\u001B[0m\u001B[0mcompiler_linting\u001B[0m \u001B[1;33m|\u001B[0m \u001B[0mcompiler\u001B[0m\u001B[1;33m.\u001B[0m\u001B[0mWARN_LINTING\u001B[0m\u001B[1;33m,\u001B[0m\u001B[1;33m\u001B[0m\u001B[0m\n\u001B[0m\u001B[0;32m   1451\u001B[0m         )\n\u001B[0;32m   1452\u001B[0m         ret = self._execute_context(\n",
      "\u001B[1;32m~\\AppData\\Local\\Programs\\Python\\Python36-32\\lib\\site-packages\\sqlalchemy\\sql\\elements.py\u001B[0m in \u001B[0;36m_compile_w_cache\u001B[1;34m(self, dialect, compiled_cache, column_keys, for_executemany, schema_translate_map, **kw)\u001B[0m\n\u001B[0;32m    535\u001B[0m                 \u001B[0mfor_executemany\u001B[0m\u001B[1;33m=\u001B[0m\u001B[0mfor_executemany\u001B[0m\u001B[1;33m,\u001B[0m\u001B[1;33m\u001B[0m\u001B[0m\n\u001B[0;32m    536\u001B[0m                 \u001B[0mschema_translate_map\u001B[0m\u001B[1;33m=\u001B[0m\u001B[0mschema_translate_map\u001B[0m\u001B[1;33m,\u001B[0m\u001B[1;33m\u001B[0m\u001B[0m\n\u001B[1;32m--> 537\u001B[1;33m                 \u001B[1;33m**\u001B[0m\u001B[0mkw\u001B[0m\u001B[1;33m\u001B[0m\u001B[0m\n\u001B[0m\u001B[0;32m    538\u001B[0m             )\n\u001B[0;32m    539\u001B[0m \u001B[1;33m\u001B[0m\u001B[0m\n",
      "\u001B[1;32m~\\AppData\\Local\\Programs\\Python\\Python36-32\\lib\\site-packages\\sqlalchemy\\sql\\elements.py\u001B[0m in \u001B[0;36m_compiler\u001B[1;34m(self, dialect, **kw)\u001B[0m\n\u001B[0;32m    551\u001B[0m         Dialect.\"\"\"\n\u001B[0;32m    552\u001B[0m \u001B[1;33m\u001B[0m\u001B[0m\n\u001B[1;32m--> 553\u001B[1;33m         \u001B[1;32mreturn\u001B[0m \u001B[0mdialect\u001B[0m\u001B[1;33m.\u001B[0m\u001B[0mstatement_compiler\u001B[0m\u001B[1;33m(\u001B[0m\u001B[0mdialect\u001B[0m\u001B[1;33m,\u001B[0m \u001B[0mself\u001B[0m\u001B[1;33m,\u001B[0m \u001B[1;33m**\u001B[0m\u001B[0mkw\u001B[0m\u001B[1;33m)\u001B[0m\u001B[1;33m\u001B[0m\u001B[0m\n\u001B[0m\u001B[0;32m    554\u001B[0m \u001B[1;33m\u001B[0m\u001B[0m\n\u001B[0;32m    555\u001B[0m     \u001B[1;32mdef\u001B[0m \u001B[0m__str__\u001B[0m\u001B[1;33m(\u001B[0m\u001B[0mself\u001B[0m\u001B[1;33m)\u001B[0m\u001B[1;33m:\u001B[0m\u001B[1;33m\u001B[0m\u001B[0m\n",
      "\u001B[1;32m~\\AppData\\Local\\Programs\\Python\\Python36-32\\lib\\site-packages\\sqlalchemy\\sql\\compiler.py\u001B[0m in \u001B[0;36m__init__\u001B[1;34m(self, dialect, statement, cache_key, column_keys, for_executemany, linting, **kwargs)\u001B[0m\n\u001B[0;32m    763\u001B[0m         \u001B[0mself\u001B[0m\u001B[1;33m.\u001B[0m\u001B[0mtruncated_names\u001B[0m \u001B[1;33m=\u001B[0m \u001B[1;33m{\u001B[0m\u001B[1;33m}\u001B[0m\u001B[1;33m\u001B[0m\u001B[0m\n\u001B[0;32m    764\u001B[0m \u001B[1;33m\u001B[0m\u001B[0m\n\u001B[1;32m--> 765\u001B[1;33m         \u001B[0mCompiled\u001B[0m\u001B[1;33m.\u001B[0m\u001B[0m__init__\u001B[0m\u001B[1;33m(\u001B[0m\u001B[0mself\u001B[0m\u001B[1;33m,\u001B[0m \u001B[0mdialect\u001B[0m\u001B[1;33m,\u001B[0m \u001B[0mstatement\u001B[0m\u001B[1;33m,\u001B[0m \u001B[1;33m**\u001B[0m\u001B[0mkwargs\u001B[0m\u001B[1;33m)\u001B[0m\u001B[1;33m\u001B[0m\u001B[0m\n\u001B[0m\u001B[0;32m    766\u001B[0m \u001B[1;33m\u001B[0m\u001B[0m\n\u001B[0;32m    767\u001B[0m         \u001B[1;32mif\u001B[0m \u001B[0mself\u001B[0m\u001B[1;33m.\u001B[0m\u001B[0misinsert\u001B[0m \u001B[1;32mor\u001B[0m \u001B[0mself\u001B[0m\u001B[1;33m.\u001B[0m\u001B[0misupdate\u001B[0m \u001B[1;32mor\u001B[0m \u001B[0mself\u001B[0m\u001B[1;33m.\u001B[0m\u001B[0misdelete\u001B[0m\u001B[1;33m:\u001B[0m\u001B[1;33m\u001B[0m\u001B[0m\n",
      "\u001B[1;32m~\\AppData\\Local\\Programs\\Python\\Python36-32\\lib\\site-packages\\sqlalchemy\\sql\\compiler.py\u001B[0m in \u001B[0;36m__init__\u001B[1;34m(self, dialect, statement, schema_translate_map, render_schema_translate, compile_kwargs)\u001B[0m\n\u001B[0;32m    452\u001B[0m             \u001B[1;32mif\u001B[0m \u001B[0mself\u001B[0m\u001B[1;33m.\u001B[0m\u001B[0mcan_execute\u001B[0m\u001B[1;33m:\u001B[0m\u001B[1;33m\u001B[0m\u001B[0m\n\u001B[0;32m    453\u001B[0m                 \u001B[0mself\u001B[0m\u001B[1;33m.\u001B[0m\u001B[0mexecution_options\u001B[0m \u001B[1;33m=\u001B[0m \u001B[0mstatement\u001B[0m\u001B[1;33m.\u001B[0m\u001B[0m_execution_options\u001B[0m\u001B[1;33m\u001B[0m\u001B[0m\n\u001B[1;32m--> 454\u001B[1;33m             \u001B[0mself\u001B[0m\u001B[1;33m.\u001B[0m\u001B[0mstring\u001B[0m \u001B[1;33m=\u001B[0m \u001B[0mself\u001B[0m\u001B[1;33m.\u001B[0m\u001B[0mprocess\u001B[0m\u001B[1;33m(\u001B[0m\u001B[0mself\u001B[0m\u001B[1;33m.\u001B[0m\u001B[0mstatement\u001B[0m\u001B[1;33m,\u001B[0m \u001B[1;33m**\u001B[0m\u001B[0mcompile_kwargs\u001B[0m\u001B[1;33m)\u001B[0m\u001B[1;33m\u001B[0m\u001B[0m\n\u001B[0m\u001B[0;32m    455\u001B[0m \u001B[1;33m\u001B[0m\u001B[0m\n\u001B[0;32m    456\u001B[0m             \u001B[1;32mif\u001B[0m \u001B[0mrender_schema_translate\u001B[0m\u001B[1;33m:\u001B[0m\u001B[1;33m\u001B[0m\u001B[0m\n",
      "\u001B[1;32m~\\AppData\\Local\\Programs\\Python\\Python36-32\\lib\\site-packages\\sqlalchemy\\sql\\compiler.py\u001B[0m in \u001B[0;36mprocess\u001B[1;34m(self, obj, **kwargs)\u001B[0m\n\u001B[0;32m    487\u001B[0m \u001B[1;33m\u001B[0m\u001B[0m\n\u001B[0;32m    488\u001B[0m     \u001B[1;32mdef\u001B[0m \u001B[0mprocess\u001B[0m\u001B[1;33m(\u001B[0m\u001B[0mself\u001B[0m\u001B[1;33m,\u001B[0m \u001B[0mobj\u001B[0m\u001B[1;33m,\u001B[0m \u001B[1;33m**\u001B[0m\u001B[0mkwargs\u001B[0m\u001B[1;33m)\u001B[0m\u001B[1;33m:\u001B[0m\u001B[1;33m\u001B[0m\u001B[0m\n\u001B[1;32m--> 489\u001B[1;33m         \u001B[1;32mreturn\u001B[0m \u001B[0mobj\u001B[0m\u001B[1;33m.\u001B[0m\u001B[0m_compiler_dispatch\u001B[0m\u001B[1;33m(\u001B[0m\u001B[0mself\u001B[0m\u001B[1;33m,\u001B[0m \u001B[1;33m**\u001B[0m\u001B[0mkwargs\u001B[0m\u001B[1;33m)\u001B[0m\u001B[1;33m\u001B[0m\u001B[0m\n\u001B[0m\u001B[0;32m    490\u001B[0m \u001B[1;33m\u001B[0m\u001B[0m\n\u001B[0;32m    491\u001B[0m     \u001B[1;32mdef\u001B[0m \u001B[0m__str__\u001B[0m\u001B[1;33m(\u001B[0m\u001B[0mself\u001B[0m\u001B[1;33m)\u001B[0m\u001B[1;33m:\u001B[0m\u001B[1;33m\u001B[0m\u001B[0m\n",
      "\u001B[1;32m~\\AppData\\Local\\Programs\\Python\\Python36-32\\lib\\site-packages\\sqlalchemy\\sql\\visitors.py\u001B[0m in \u001B[0;36m_compiler_dispatch\u001B[1;34m(self, visitor, **kw)\u001B[0m\n\u001B[0;32m     80\u001B[0m \u001B[1;33m\u001B[0m\u001B[0m\n\u001B[0;32m     81\u001B[0m         \u001B[1;32melse\u001B[0m\u001B[1;33m:\u001B[0m\u001B[1;33m\u001B[0m\u001B[0m\n\u001B[1;32m---> 82\u001B[1;33m             \u001B[1;32mreturn\u001B[0m \u001B[0mmeth\u001B[0m\u001B[1;33m(\u001B[0m\u001B[0mself\u001B[0m\u001B[1;33m,\u001B[0m \u001B[1;33m**\u001B[0m\u001B[0mkw\u001B[0m\u001B[1;33m)\u001B[0m\u001B[1;33m\u001B[0m\u001B[0m\n\u001B[0m\u001B[0;32m     83\u001B[0m \u001B[1;33m\u001B[0m\u001B[0m\n\u001B[0;32m     84\u001B[0m     cls._compiler_dispatch = (\n",
      "\u001B[1;32m~\\AppData\\Local\\Programs\\Python\\Python36-32\\lib\\site-packages\\sqlalchemy\\sql\\compiler.py\u001B[0m in \u001B[0;36mvisit_insert\u001B[1;34m(self, insert_stmt, **kw)\u001B[0m\n\u001B[0;32m   3624\u001B[0m \u001B[1;33m\u001B[0m\u001B[0m\n\u001B[0;32m   3625\u001B[0m         crud_params = crud._get_crud_params(\n\u001B[1;32m-> 3626\u001B[1;33m             \u001B[0mself\u001B[0m\u001B[1;33m,\u001B[0m \u001B[0minsert_stmt\u001B[0m\u001B[1;33m,\u001B[0m \u001B[0mcompile_state\u001B[0m\u001B[1;33m,\u001B[0m \u001B[1;33m**\u001B[0m\u001B[0mkw\u001B[0m\u001B[1;33m\u001B[0m\u001B[0m\n\u001B[0m\u001B[0;32m   3627\u001B[0m         )\n\u001B[0;32m   3628\u001B[0m \u001B[1;33m\u001B[0m\u001B[0m\n",
      "\u001B[1;32m~\\AppData\\Local\\Programs\\Python\\Python36-32\\lib\\site-packages\\sqlalchemy\\sql\\crud.py\u001B[0m in \u001B[0;36m_get_crud_params\u001B[1;34m(compiler, stmt, compile_state, **kw)\u001B[0m\n\u001B[0;32m    173\u001B[0m     \u001B[1;32mif\u001B[0m \u001B[0mcompile_state\u001B[0m\u001B[1;33m.\u001B[0m\u001B[0m_has_multi_parameters\u001B[0m\u001B[1;33m:\u001B[0m\u001B[1;33m\u001B[0m\u001B[0m\n\u001B[0;32m    174\u001B[0m         values = _extend_values_for_multiparams(\n\u001B[1;32m--> 175\u001B[1;33m             \u001B[0mcompiler\u001B[0m\u001B[1;33m,\u001B[0m \u001B[0mstmt\u001B[0m\u001B[1;33m,\u001B[0m \u001B[0mcompile_state\u001B[0m\u001B[1;33m,\u001B[0m \u001B[0mvalues\u001B[0m\u001B[1;33m,\u001B[0m \u001B[0mkw\u001B[0m\u001B[1;33m\u001B[0m\u001B[0m\n\u001B[0m\u001B[0;32m    176\u001B[0m         )\n\u001B[0;32m    177\u001B[0m     elif (\n",
      "\u001B[1;32m~\\AppData\\Local\\Programs\\Python\\Python36-32\\lib\\site-packages\\sqlalchemy\\sql\\crud.py\u001B[0m in \u001B[0;36m_extend_values_for_multiparams\u001B[1;34m(compiler, stmt, compile_state, values, kw)\u001B[0m\n\u001B[0;32m    931\u001B[0m                         \u001B[0mrow\u001B[0m\u001B[1;33m[\u001B[0m\u001B[0mkey\u001B[0m\u001B[1;33m]\u001B[0m\u001B[1;33m,\u001B[0m\u001B[1;33m\u001B[0m\u001B[0m\n\u001B[0;32m    932\u001B[0m                         \u001B[0mname\u001B[0m\u001B[1;33m=\u001B[0m\u001B[1;34m\"%s_m%d\"\u001B[0m \u001B[1;33m%\u001B[0m \u001B[1;33m(\u001B[0m\u001B[0mcol\u001B[0m\u001B[1;33m.\u001B[0m\u001B[0mkey\u001B[0m\u001B[1;33m,\u001B[0m \u001B[0mi\u001B[0m \u001B[1;33m+\u001B[0m \u001B[1;36m1\u001B[0m\u001B[1;33m)\u001B[0m\u001B[1;33m,\u001B[0m\u001B[1;33m\u001B[0m\u001B[0m\n\u001B[1;32m--> 933\u001B[1;33m                         \u001B[1;33m**\u001B[0m\u001B[0mkw\u001B[0m\u001B[1;33m\u001B[0m\u001B[0m\n\u001B[0m\u001B[0;32m    934\u001B[0m                     )\n\u001B[0;32m    935\u001B[0m                 \u001B[1;32melse\u001B[0m\u001B[1;33m:\u001B[0m\u001B[1;33m\u001B[0m\u001B[0m\n",
      "\u001B[1;32m~\\AppData\\Local\\Programs\\Python\\Python36-32\\lib\\site-packages\\sqlalchemy\\sql\\crud.py\u001B[0m in \u001B[0;36m_create_bind_param\u001B[1;34m(compiler, col, value, process, required, name, **kw)\u001B[0m\n\u001B[0;32m    205\u001B[0m     \u001B[0mbindparam\u001B[0m\u001B[1;33m.\u001B[0m\u001B[0m_is_crud\u001B[0m \u001B[1;33m=\u001B[0m \u001B[1;32mTrue\u001B[0m\u001B[1;33m\u001B[0m\u001B[0m\n\u001B[0;32m    206\u001B[0m     \u001B[1;32mif\u001B[0m \u001B[0mprocess\u001B[0m\u001B[1;33m:\u001B[0m\u001B[1;33m\u001B[0m\u001B[0m\n\u001B[1;32m--> 207\u001B[1;33m         \u001B[0mbindparam\u001B[0m \u001B[1;33m=\u001B[0m \u001B[0mbindparam\u001B[0m\u001B[1;33m.\u001B[0m\u001B[0m_compiler_dispatch\u001B[0m\u001B[1;33m(\u001B[0m\u001B[0mcompiler\u001B[0m\u001B[1;33m,\u001B[0m \u001B[1;33m**\u001B[0m\u001B[0mkw\u001B[0m\u001B[1;33m)\u001B[0m\u001B[1;33m\u001B[0m\u001B[0m\n\u001B[0m\u001B[0;32m    208\u001B[0m     \u001B[1;32mreturn\u001B[0m \u001B[0mbindparam\u001B[0m\u001B[1;33m\u001B[0m\u001B[0m\n\u001B[0;32m    209\u001B[0m \u001B[1;33m\u001B[0m\u001B[0m\n",
      "\u001B[1;32m~\\AppData\\Local\\Programs\\Python\\Python36-32\\lib\\site-packages\\sqlalchemy\\sql\\visitors.py\u001B[0m in \u001B[0;36m_compiler_dispatch\u001B[1;34m(self, visitor, **kw)\u001B[0m\n\u001B[0;32m     80\u001B[0m \u001B[1;33m\u001B[0m\u001B[0m\n\u001B[0;32m     81\u001B[0m         \u001B[1;32melse\u001B[0m\u001B[1;33m:\u001B[0m\u001B[1;33m\u001B[0m\u001B[0m\n\u001B[1;32m---> 82\u001B[1;33m             \u001B[1;32mreturn\u001B[0m \u001B[0mmeth\u001B[0m\u001B[1;33m(\u001B[0m\u001B[0mself\u001B[0m\u001B[1;33m,\u001B[0m \u001B[1;33m**\u001B[0m\u001B[0mkw\u001B[0m\u001B[1;33m)\u001B[0m\u001B[1;33m\u001B[0m\u001B[0m\n\u001B[0m\u001B[0;32m     83\u001B[0m \u001B[1;33m\u001B[0m\u001B[0m\n\u001B[0;32m     84\u001B[0m     cls._compiler_dispatch = (\n",
      "\u001B[1;32m~\\AppData\\Local\\Programs\\Python\\Python36-32\\lib\\site-packages\\sqlalchemy\\dialects\\postgresql\\psycopg2.py\u001B[0m in \u001B[0;36mvisit_bindparam\u001B[1;34m(self, bindparam, skip_bind_expression, **kw)\u001B[0m\n\u001B[0;32m    642\u001B[0m \u001B[1;33m\u001B[0m\u001B[0m\n\u001B[0;32m    643\u001B[0m         text = super(PGCompiler_psycopg2, self).visit_bindparam(\n\u001B[1;32m--> 644\u001B[1;33m             \u001B[0mbindparam\u001B[0m\u001B[1;33m,\u001B[0m \u001B[0mskip_bind_expression\u001B[0m\u001B[1;33m=\u001B[0m\u001B[0mskip_bind_expression\u001B[0m\u001B[1;33m,\u001B[0m \u001B[1;33m**\u001B[0m\u001B[0mkw\u001B[0m\u001B[1;33m\u001B[0m\u001B[0m\n\u001B[0m\u001B[0;32m    645\u001B[0m         )\n\u001B[0;32m    646\u001B[0m         \u001B[1;31m# note that if the type has a bind_expression(), we will get a\u001B[0m\u001B[1;33m\u001B[0m\u001B[1;33m\u001B[0m\u001B[0m\n",
      "\u001B[1;32m~\\AppData\\Local\\Programs\\Python\\Python36-32\\lib\\site-packages\\sqlalchemy\\sql\\compiler.py\u001B[0m in \u001B[0;36mvisit_bindparam\u001B[1;34m(self, bindparam, within_columns_clause, literal_binds, skip_bind_expression, literal_execute, render_postcompile, **kwargs)\u001B[0m\n\u001B[0;32m   2341\u001B[0m                     )\n\u001B[0;32m   2342\u001B[0m \u001B[1;33m\u001B[0m\u001B[0m\n\u001B[1;32m-> 2343\u001B[1;33m         \u001B[0mself\u001B[0m\u001B[1;33m.\u001B[0m\u001B[0mbinds\u001B[0m\u001B[1;33m[\u001B[0m\u001B[0mbindparam\u001B[0m\u001B[1;33m.\u001B[0m\u001B[0mkey\u001B[0m\u001B[1;33m]\u001B[0m \u001B[1;33m=\u001B[0m \u001B[0mself\u001B[0m\u001B[1;33m.\u001B[0m\u001B[0mbinds\u001B[0m\u001B[1;33m[\u001B[0m\u001B[0mname\u001B[0m\u001B[1;33m]\u001B[0m \u001B[1;33m=\u001B[0m \u001B[0mbindparam\u001B[0m\u001B[1;33m\u001B[0m\u001B[0m\n\u001B[0m\u001B[0;32m   2344\u001B[0m \u001B[1;33m\u001B[0m\u001B[0m\n\u001B[0;32m   2345\u001B[0m         \u001B[1;31m# if we are given a cache key that we're going to match against,\u001B[0m\u001B[1;33m\u001B[0m\u001B[1;33m\u001B[0m\u001B[0m\n",
      "\u001B[1;31mKeyboardInterrupt\u001B[0m: "
     ]
    }
   ],
   "source": [
    "#Copia las tablas que sean diccionarios a la base de datos destino\n",
    "dfs = pd.read_excel('Tablas.xlsx',engine='openpyxl',header=None)\n",
    "tablas_mfm=dfs.values\n",
    "for tabla in tablas_mfm:\n",
    "    if tabla[1] == 'D' :\n",
    "        copiarTabla(dbOr,dbDes,string_to_table(tabla[0]))\n",
    "\n"
   ],
   "metadata": {
    "collapsed": false,
    "pycharm": {
     "name": "#%%\n"
    }
   }
  },
  {
   "cell_type": "code",
   "execution_count": 5,
   "outputs": [],
   "source": [
    "#Cuenta el numero de sectores\n",
    "tipo_zbs=[\"RU\",\"UR\",\"CA\"]\n",
    "res = dbOr.execute(\"select count(*) from mfm.mf_sector\")\n",
    "nSectores = res.first()[0]\n",
    "res.close()\n",
    "\n",
    "sectores = np.zeros([len(tipo_zbs),nSectores])"
   ],
   "metadata": {
    "collapsed": false,
    "pycharm": {
     "name": "#%%\n"
    }
   }
  },
  {
   "cell_type": "code",
   "execution_count": 6,
   "outputs": [],
   "source": [
    "#Cuenta el numero de zbs segun su tipo que tiene cada sector\n",
    "q1=\"select * from (select sector_id , count(*) from mfm.mf_zbs where tipo = '\"\n",
    "q2=\"' group by sector_id) as zonas order by sector_id;\"\n",
    "\n",
    "for i in range(0,len(tipo_zbs)):\n",
    "    res= dbOr.execute(q1+tipo_zbs[i]+q2)\n",
    "    for r in res:\n",
    "        sectores[i,r[0]-1]=r[1]\n",
    "    res.close()\n",
    "\n",
    "#print(sectores)"
   ],
   "metadata": {
    "collapsed": false,
    "pycharm": {
     "name": "#%%\n"
    }
   }
  },
  {
   "cell_type": "code",
   "execution_count": 7,
   "outputs": [
    {
     "name": "stdout",
     "output_type": "stream",
     "text": [
      "[[12.  2.  2.]\n",
      " [ 6.  0.  8.]\n",
      " [11.  2.  1.]\n",
      " [ 3.  1.  5.]\n",
      " [15.  3.  0.]\n",
      " [ 9.  0.  1.]]\n"
     ]
    }
   ],
   "source": [
    "#Genera los sectores con sus zbs\n",
    "NUMERO_DE_SECTORES_A_GENERAR=6\n",
    "sectores_generados = np.random.multivariate_normal(np.mean(sectores,axis=1), np.cov(sectores), NUMERO_DE_SECTORES_A_GENERAR)\n",
    "sectores_generados[sectores_generados<0]=0\n",
    "sectores_generados=np.round(sectores_generados)\n",
    "print(sectores_generados)"
   ],
   "metadata": {
    "collapsed": false,
    "pycharm": {
     "name": "#%%\n"
    }
   }
  },
  {
   "cell_type": "code",
   "execution_count": 8,
   "outputs": [
    {
     "name": "stdout",
     "output_type": "stream",
     "text": [
      "[77, 9, 37]\n"
     ]
    }
   ],
   "source": [
    "#Cuenta el número zbs totales segun su tipo\n",
    "q1=\"select count(*) from mfm.mf_zbs where tipo ='\"\n",
    "q2=\"';\"\n",
    "nTipo_zbs=[]\n",
    "for i in range(0,len(tipo_zbs)):\n",
    "    res= dbOr.execute(q1+tipo_zbs[i]+q2)\n",
    "    nTipo_zbs.append(res.first()[0])\n",
    "    res.close()\n",
    "print(nTipo_zbs)"
   ],
   "metadata": {
    "collapsed": false,
    "pycharm": {
     "name": "#%%\n"
    }
   }
  },
  {
   "cell_type": "code",
   "execution_count": 9,
   "outputs": [],
   "source": [
    "#Cuenta el numero de cias de AP segun su tipo en cada tipo de zbs\n",
    "tipo_AP = [\"MEDICINA FAMILIA\", \"PEDIATRIA AP\"]\n",
    "q1=\"select mz.code, coalesce(_count,0)  from (select zbs_cd as z , count(*) as _count from mfm.mf_cias_v2 where speciality_st = '\"\n",
    "q2=\"' group by zbs_cd) as s right join mfm.mf_zbs as mz on s.z=mz.code where mz.tipo='\"\n",
    "q3=\"' order by mz.code;\"\n",
    "cias=[]\n",
    "for i in range(0,len(tipo_zbs)):\n",
    "    cias_por_tipo = np.zeros([len(tipo_AP),nTipo_zbs[i]])\n",
    "    for j in range(0,len(tipo_AP)):\n",
    "        res= dbOr.execute(q1+tipo_AP[j]+q2+tipo_zbs[i]+q3)\n",
    "        k=0\n",
    "        for r in res:\n",
    "            cias_por_tipo[j,k]=r[1]\n",
    "            k+=1\n",
    "        res.close()\n",
    "    cias.append(cias_por_tipo)"
   ],
   "metadata": {
    "collapsed": false,
    "pycharm": {
     "name": "#%%\n"
    }
   }
  },
  {
   "cell_type": "code",
   "execution_count": 10,
   "outputs": [],
   "source": [
    "#Genero los cias de AP en las zbs creadas\n",
    "cias_generados=[]\n",
    "for i in range(0,len(tipo_zbs)):\n",
    "    cias_generado=np.random.multivariate_normal(np.mean(cias[i],axis=1), np.cov(cias[i]),np.sum(sectores_generados,axis=0).astype(int)[i] )\n",
    "    cias_generado[cias_generado<0]=0\n",
    "    cias_generado=np.round(cias_generado)\n",
    "    cias_generados.append(cias_generado)\n",
    "#print(cias_generados)\n"
   ],
   "metadata": {
    "collapsed": false,
    "pycharm": {
     "name": "#%%\n"
    }
   }
  },
  {
   "cell_type": "code",
   "execution_count": 11,
   "outputs": [],
   "source": [
    "#Inserto en la BBDD destino los sectores,zbs y cias generados\n",
    "i=0\n",
    "idsZ=0\n",
    "idsC=0\n",
    "indice_tipos_cias=np.zeros([len(tipo_zbs)]).astype(int)\n",
    "for sector in sectores_generados:\n",
    "    s = gf.generar_sector(i)\n",
    "    ins_sec = t_mf_sector.insert().values(s)\n",
    "    dbDes.execute(ins_sec)\n",
    "    for k in range(0,len(tipo_zbs)):\n",
    "        j=0\n",
    "        while j < sector[k]:\n",
    "            zbs = gf.generar_zbs(idsZ,tipo_zbs[k],s)\n",
    "            dbDes.execute(t_mf_zbs.insert().values(zbs))\n",
    "            cias_g=cias_generados[k][indice_tipos_cias[k]]\n",
    "            indice_tipos_cias[k]+=1\n",
    "            l=0\n",
    "            while l < len(tipo_AP):\n",
    "                sp={\"code\": l, \"st\": tipo_AP[l]}\n",
    "                m=0\n",
    "                while m < cias_g[l]:\n",
    "                    ci = gf.generar_cias(idsC,sp,s,zbs)\n",
    "                    dbDes.execute(t_mf_cias_v2.insert().values(ci))\n",
    "                    idsC+=1\n",
    "                    m+=1\n",
    "                l+=1\n",
    "            idsZ+=1\n",
    "            j+=1\n",
    "    i+=1"
   ],
   "metadata": {
    "collapsed": false,
    "pycharm": {
     "name": "#%%\n"
    }
   }
  }
 ],
 "metadata": {
  "kernelspec": {
   "display_name": "Python 3",
   "language": "python",
   "name": "python3"
  },
  "language_info": {
   "codemirror_mode": {
    "name": "ipython",
    "version": 2
   },
   "file_extension": ".py",
   "mimetype": "text/x-python",
   "name": "python",
   "nbconvert_exporter": "python",
   "pygments_lexer": "ipython2",
   "version": "2.7.6"
  }
 },
 "nbformat": 4,
 "nbformat_minor": 0
}