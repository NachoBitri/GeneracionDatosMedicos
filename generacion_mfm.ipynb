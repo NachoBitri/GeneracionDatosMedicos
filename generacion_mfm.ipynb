{
 "cells": [
  {
   "cell_type": "code",
   "execution_count": 1,
   "metadata": {
    "collapsed": true
   },
   "outputs": [],
   "source": [
    "from sqlalchemy import create_engine\n",
    "from sqlalchemy.sql.ddl import CreateSchema\n",
    "from tablas_mfm import *\n",
    "import numpy as np\n",
    "import pandas as pd\n",
    "import generador_filas as gf\n"
   ]
  },
  {
   "cell_type": "code",
   "execution_count": 2,
   "outputs": [],
   "source": [
    "#Devuelve una tabla con nombre \"nombre\"\n",
    "def string_to_table(nombre):\n",
    "    for tb in metadata.sorted_tables:\n",
    "        if tb.name == nombre:\n",
    "            return tb\n",
    "    raise Exception(\"la tabla \"+nombre+\" no existe\")\n"
   ],
   "metadata": {
    "collapsed": false,
    "pycharm": {
     "name": "#%%\n"
    }
   }
  },
  {
   "cell_type": "code",
   "execution_count": 3,
   "outputs": [],
   "source": [
    "#Copia la tabla \"nombreTabla\" de la BBDD \"dbO\" a la BBDD \"dbD\"\n",
    "def copiarTabla(dbO,dbD, nombreTabla):\n",
    "    if not isinstance(nombreTabla,Table) :\n",
    "        raise Exception(\"la tabla \"+nombreTabla+\" no existe\")\n",
    "    else :\n",
    "        result = dbO.execute(nombreTabla.select())\n",
    "        column=nombreTabla.columns.keys()\n",
    "        filas=[]\n",
    "        filasmax=10000\n",
    "        num_filas=0\n",
    "        for r in result:\n",
    "            fila = {}\n",
    "            for i in range(len(column)):\n",
    "                fila.update({column[i] : r[i]})\n",
    "            filas.append(fila)\n",
    "            num_filas+=1\n",
    "            if num_filas > filasmax:\n",
    "                insercion = nombreTabla.insert().values(filas)\n",
    "                dbD.execute(insercion)\n",
    "                filas = []\n",
    "                num_filas=0\n",
    "        result.close()\n",
    "        insercion = nombreTabla.insert().values(filas)\n",
    "        dbD.execute(insercion)\n"
   ],
   "metadata": {
    "collapsed": false,
    "pycharm": {
     "name": "#%%\n"
    }
   }
  },
  {
   "cell_type": "code",
   "execution_count": 4,
   "outputs": [],
   "source": [
    "#Crea las conexiones con las BBDD origen y destino\n",
    "#db_destino_string = \"\"\n",
    "#db_origen_string = \"\"\n",
    "\n",
    "dbDestino = create_engine(db_destino_string)\n",
    "dbOrigen = create_engine(db_origen_string)\n",
    "\n",
    "dbDes=dbDestino.connect()\n",
    "dbOr=dbOrigen.connect()"
   ],
   "metadata": {
    "collapsed": false,
    "pycharm": {
     "name": "#%%\n"
    }
   }
  },
  {
   "cell_type": "code",
   "execution_count": 5,
   "outputs": [],
   "source": [
    "#Crea el esquema para las tablas en la BBDD destino\n",
    "\n",
    "if not dbDes.dialect.has_schema(dbDes, 'mfm'):\n",
    "    dbDes.execute(CreateSchema('mfm'))"
   ],
   "metadata": {
    "collapsed": false,
    "pycharm": {
     "name": "#%%\n"
    }
   }
  },
  {
   "cell_type": "code",
   "execution_count": 6,
   "outputs": [],
   "source": [
    "#Crea las tablas en la BBDD destino\n",
    "metadata.create_all(dbDes)\n"
   ],
   "metadata": {
    "collapsed": false,
    "pycharm": {
     "name": "#%%\n"
    }
   }
  },
  {
   "cell_type": "code",
   "execution_count": 7,
   "outputs": [],
   "source": [
    "#Copia las tablas que sean diccionarios a la base de datos destino\n",
    "dfs = pd.read_excel('Tablas.xlsx',engine='openpyxl',header=None)\n",
    "tablas_mfm=dfs.values\n",
    "for tabla in tablas_mfm:\n",
    "    if tabla[1] == 'D' :\n",
    "        copiarTabla(dbOr,dbDes,string_to_table(tabla[0]))\n",
    "\n"
   ],
   "metadata": {
    "collapsed": false,
    "pycharm": {
     "name": "#%%\n"
    }
   }
  },
  {
   "cell_type": "code",
   "execution_count": 8,
   "outputs": [],
   "source": [
    "#Cuenta el numero de sectores\n",
    "tipo_zbs=[\"RU\",\"UR\",\"CA\"]\n",
    "res = dbOr.execute(text(\"select count(*) from mfm.mf_sector\"))\n",
    "nSectores = res.first()[0]\n",
    "res.close()\n",
    "\n",
    "sectores = np.zeros([len(tipo_zbs),nSectores])"
   ],
   "metadata": {
    "collapsed": false,
    "pycharm": {
     "name": "#%%\n"
    }
   }
  },
  {
   "cell_type": "code",
   "execution_count": 9,
   "outputs": [],
   "source": [
    "#Cuenta el numero de zbs segun su tipo que tiene cada sector\n",
    "q1=\"select * from (select sector_id , count(*) from mfm.mf_zbs where tipo = '\"\n",
    "q2=\"' group by sector_id) as zonas order by sector_id;\"\n",
    "\n",
    "for i in range(0,len(tipo_zbs)):\n",
    "    res= dbOr.execute(text(q1+tipo_zbs[i]+q2))\n",
    "    for r in res:\n",
    "        sectores[i,r[0]-1]=r[1]\n",
    "    res.close()\n",
    "\n",
    "#print(sectores)"
   ],
   "metadata": {
    "collapsed": false,
    "pycharm": {
     "name": "#%%\n"
    }
   }
  },
  {
   "cell_type": "code",
   "execution_count": 10,
   "outputs": [
    {
     "name": "stdout",
     "output_type": "stream",
     "text": [
      "[[16.  2.  0.]\n",
      " [12.  2.  8.]\n",
      " [ 8.  0.  9.]\n",
      " [11.  2. 12.]\n",
      " [ 4.  0.  8.]\n",
      " [12.  1. 10.]]\n"
     ]
    }
   ],
   "source": [
    "#Genera los sectores con sus zbs\n",
    "NUMERO_DE_SECTORES_A_GENERAR=6\n",
    "sectores_generados = np.random.multivariate_normal(np.mean(sectores,axis=1), np.cov(sectores), NUMERO_DE_SECTORES_A_GENERAR)\n",
    "sectores_generados[sectores_generados<0]=0\n",
    "sectores_generados=np.round(sectores_generados)\n",
    "print(sectores_generados)"
   ],
   "metadata": {
    "collapsed": false,
    "pycharm": {
     "name": "#%%\n"
    }
   }
  },
  {
   "cell_type": "code",
   "execution_count": 11,
   "outputs": [
    {
     "name": "stdout",
     "output_type": "stream",
     "text": [
      "[77, 9, 37]\n"
     ]
    }
   ],
   "source": [
    "#Cuenta el número zbs totales segun su tipo\n",
    "q1=\"select count(*) from mfm.mf_zbs where tipo ='\"\n",
    "q2=\"';\"\n",
    "nTipo_zbs=[]\n",
    "for i in range(0,len(tipo_zbs)):\n",
    "    res= dbOr.execute(text(q1+tipo_zbs[i]+q2))\n",
    "    nTipo_zbs.append(res.first()[0])\n",
    "    res.close()\n",
    "print(nTipo_zbs)"
   ],
   "metadata": {
    "collapsed": false,
    "pycharm": {
     "name": "#%%\n"
    }
   }
  },
  {
   "cell_type": "code",
   "execution_count": 12,
   "outputs": [],
   "source": [
    "#Cuenta el numero de cias de AP segun su tipo en cada tipo de zbs\n",
    "tipo_AP = [\"MEDICINA FAMILIA\", \"PEDIATRIA AP\"]\n",
    "q1=\"select mz.code, coalesce(_count,0)  from (select zbs_cd as z , count(*) as _count from mfm.mf_cias_v2 where speciality_st = '\"\n",
    "q2=\"' group by zbs_cd) as s right join mfm.mf_zbs as mz on s.z=mz.code where mz.tipo='\"\n",
    "q3=\"' order by mz.code;\"\n",
    "cias=[]\n",
    "for i in range(0,len(tipo_zbs)):\n",
    "    cias_por_tipo = np.zeros([len(tipo_AP),nTipo_zbs[i]])\n",
    "    for j in range(0,len(tipo_AP)):\n",
    "        res= dbOr.execute(text(q1+tipo_AP[j]+q2+tipo_zbs[i]+q3))\n",
    "        k=0\n",
    "        for r in res:\n",
    "            cias_por_tipo[j,k]=r[1]\n",
    "            k+=1\n",
    "        res.close()\n",
    "    cias.append(cias_por_tipo)"
   ],
   "metadata": {
    "collapsed": false,
    "pycharm": {
     "name": "#%%\n"
    }
   }
  },
  {
   "cell_type": "code",
   "execution_count": 13,
   "outputs": [],
   "source": [
    "#Genero los cias de AP en las zbs creadas\n",
    "cias_generados=[]\n",
    "for i in range(0,len(tipo_zbs)):\n",
    "    cias_generado=np.random.multivariate_normal(np.mean(cias[i],axis=1), np.cov(cias[i]),np.sum(sectores_generados,axis=0).astype(int)[i] )\n",
    "    cias_generado[cias_generado<0]=0\n",
    "    cias_generado=np.round(cias_generado)\n",
    "    cias_generados.append(cias_generado)\n",
    "#print(cias_generados)\n"
   ],
   "metadata": {
    "collapsed": false,
    "pycharm": {
     "name": "#%%\n"
    }
   }
  },
  {
   "cell_type": "code",
   "execution_count": 14,
   "outputs": [],
   "source": [
    "#Inserto en la BBDD destino los sectores,zbs y cias generados\n",
    "i=0\n",
    "idsZ=0\n",
    "idsC=0\n",
    "indice_tipos_cias=np.zeros([len(tipo_zbs)]).astype(int)\n",
    "for sector in sectores_generados:\n",
    "    s = gf.generar_sector(i)\n",
    "    ins_sec = t_mf_sector.insert().values(s)\n",
    "    dbDes.execute(ins_sec)\n",
    "    for k in range(0,len(tipo_zbs)):\n",
    "        j=0\n",
    "        while j < sector[k]:\n",
    "            zbs = gf.generar_zbs(idsZ,tipo_zbs[k],s)\n",
    "            dbDes.execute(t_mf_zbs.insert().values(zbs))\n",
    "            cias_g=cias_generados[k][indice_tipos_cias[k]]\n",
    "            indice_tipos_cias[k]+=1\n",
    "            l=0\n",
    "            while l < len(tipo_AP):\n",
    "                sp={\"code\": l, \"st\": tipo_AP[l]}\n",
    "                m=0\n",
    "                while m < cias_g[l]:\n",
    "                    ci = gf.generar_cias(idsC,sp,s,zbs)\n",
    "                    dbDes.execute(t_mf_cias_v2.insert().values(ci))\n",
    "                    idsC+=1\n",
    "                    m+=1\n",
    "                l+=1\n",
    "            idsZ+=1\n",
    "            j+=1\n",
    "    i+=1"
   ],
   "metadata": {
    "collapsed": false,
    "pycharm": {
     "name": "#%%\n"
    }
   }
  },
  {
   "cell_type": "code",
   "execution_count": 17,
   "outputs": [],
   "source": [
    "dbDes.close()\n",
    "dbDestino.dispose()\n",
    "dbOr.close()\n",
    "dbOrigen.dispose()"
   ],
   "metadata": {
    "collapsed": false,
    "pycharm": {
     "name": "#%%\n"
    }
   }
  }
 ],
 "metadata": {
  "kernelspec": {
   "display_name": "Python 3",
   "language": "python",
   "name": "python3"
  },
  "language_info": {
   "codemirror_mode": {
    "name": "ipython",
    "version": 2
   },
   "file_extension": ".py",
   "mimetype": "text/x-python",
   "name": "python",
   "nbconvert_exporter": "python",
   "pygments_lexer": "ipython2",
   "version": "2.7.6"
  }
 },
 "nbformat": 4,
 "nbformat_minor": 0
}