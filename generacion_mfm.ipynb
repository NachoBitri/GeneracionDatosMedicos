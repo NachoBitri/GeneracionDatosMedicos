{
 "cells": [
  {
   "cell_type": "code",
   "execution_count": 1,
   "metadata": {
    "collapsed": true
   },
   "outputs": [],
   "source": [
    "from sqlalchemy import create_engine\n",
    "from sqlalchemy.sql.ddl import CreateSchema\n",
    "from tablas_mfm import *\n",
    "from tablas_origen import *\n",
    "import numpy as np\n",
    "import pandas as pd\n",
    "import generador_filas as gf\n",
    "from tablas_generacion import *\n",
    "import datetime\n",
    "import funciones_ruido as fr"
   ]
  },
  {
   "cell_type": "code",
   "execution_count": 2,
   "outputs": [],
   "source": [
    "#Devuelve una tabla con nombre \"nombre\"\n",
    "def string_to_table(nombre):\n",
    "    for tb in metadata.sorted_tables:\n",
    "        if tb.name == nombre:\n",
    "            return tb\n",
    "    raise Exception(\"la tabla \"+nombre+\" no existe\")\n"
   ],
   "metadata": {
    "collapsed": false,
    "pycharm": {
     "name": "#%%\n"
    }
   }
  },
  {
   "cell_type": "code",
   "execution_count": 3,
   "outputs": [],
   "source": [
    "#Copia la tabla \"nombreTabla\" de la BBDD \"dbO\" a la BBDD \"dbD\"\n",
    "def copiarTabla(dbO,dbD, nombreTabla):\n",
    "    if not isinstance(nombreTabla,Table) :\n",
    "        raise Exception(\"la tabla \"+nombreTabla+\" no existe\")\n",
    "    else :\n",
    "        result = dbO.execute(nombreTabla.select())\n",
    "        column=nombreTabla.columns.keys()\n",
    "        filas=[]\n",
    "        filasmax=10000\n",
    "        num_filas=0\n",
    "        for r in result:\n",
    "            fila = {}\n",
    "            for i in range(len(column)):\n",
    "                fila.update({column[i] : r[i]})\n",
    "            filas.append(fila)\n",
    "            num_filas+=1\n",
    "            if num_filas > filasmax:\n",
    "                insercion = nombreTabla.insert().values(filas)\n",
    "                dbD.execute(insercion)\n",
    "                filas = []\n",
    "                num_filas=0\n",
    "        result.close()\n",
    "        insercion = nombreTabla.insert().values(filas)\n",
    "        dbD.execute(insercion)\n"
   ],
   "metadata": {
    "collapsed": false,
    "pycharm": {
     "name": "#%%\n"
    }
   }
  },
  {
   "cell_type": "code",
   "execution_count": 4,
   "outputs": [],
   "source": [
    "#Crea las conexiones con las BBDD origen y destino\n",
    "db_destino_string = \"\"\n",
    "db_origen_string = \"\"\n",
    "\n",
    "dbDestino = create_engine(db_destino_string)\n",
    "dbOrigen = create_engine(db_origen_string)\n",
    "\n",
    "dbDes=dbDestino.connect()\n",
    "dbOr=dbOrigen.connect()"
   ],
   "metadata": {
    "collapsed": false,
    "pycharm": {
     "name": "#%%\n"
    }
   }
  },
  {
   "cell_type": "code",
   "execution_count": 5,
   "outputs": [],
   "source": [
    "#Crea el esquema para las tablas en la BBDD destino\n",
    "\n",
    "if not dbDes.dialect.has_schema(dbDes, 'mfm'):\n",
    "    dbDes.execute(CreateSchema('mfm'))"
   ],
   "metadata": {
    "collapsed": false,
    "pycharm": {
     "name": "#%%\n"
    }
   }
  },
  {
   "cell_type": "code",
   "execution_count": 6,
   "outputs": [],
   "source": [
    "#Crea las tablas en la BBDD destino\n",
    "metadata.create_all(dbDes)\n"
   ],
   "metadata": {
    "collapsed": false,
    "pycharm": {
     "name": "#%%\n"
    }
   }
  },
  {
   "cell_type": "code",
   "execution_count": 7,
   "outputs": [],
   "source": [
    "#Copia las tablas que sean diccionarios a la base de datos destino\n",
    "dfs = pd.read_excel('Tablas.xlsx',engine='openpyxl',header=None)\n",
    "tablas_mfm=dfs.values\n",
    "for tabla in tablas_mfm:\n",
    "    if tabla[1] == 'D' :\n",
    "        copiarTabla(dbOr,dbDes,string_to_table(tabla[0]))\n",
    "\n"
   ],
   "metadata": {
    "collapsed": false,
    "pycharm": {
     "name": "#%%\n"
    }
   }
  },
  {
   "cell_type": "code",
   "execution_count": 8,
   "outputs": [],
   "source": [
    "#Cuenta el numero de sectores\n",
    "tipo_zbs=[\"RU\",\"UR\",\"CA\"]"
   ],
   "metadata": {
    "collapsed": false,
    "pycharm": {
     "name": "#%%\n"
    }
   }
  },
  {
   "cell_type": "code",
   "execution_count": 9,
   "outputs": [],
   "source": [
    "res = dbOr.execute(text(\"select count(*) from mfm.mf_sector\"))\n",
    "nSectores = res.first()[0]\n",
    "res.close()\n",
    "\n",
    "sectores = np.zeros([len(tipo_zbs),nSectores])"
   ],
   "metadata": {
    "collapsed": false,
    "pycharm": {
     "name": "#%%\n"
    }
   }
  },
  {
   "cell_type": "code",
   "execution_count": 10,
   "outputs": [
    {
     "name": "stdout",
     "output_type": "stream",
     "text": [
      "[[10. 12.  3. 14.  8. 14. 11.  5.]\n",
      " [ 1.  3.  0.  2.  2.  0.  1.  0.]\n",
      " [ 3.  0. 18.  6.  0.  2.  0.  8.]]\n"
     ]
    }
   ],
   "source": [
    "#Cuenta el numero de zbs segun su tipo que tiene cada sector\n",
    "q1=\"select * from (select sector_id , count(*) from mfm.mf_zbs where tipo = '\"\n",
    "q2=\"' group by sector_id) as zonas order by sector_id;\"\n",
    "\n",
    "for i in range(0,len(tipo_zbs)):\n",
    "    res= dbOr.execute(text(q1+tipo_zbs[i]+q2))\n",
    "    for r in res:\n",
    "        sectores[i,r[0]-1]=r[1]\n",
    "    res.close()\n",
    "\n",
    "print(sectores)"
   ],
   "metadata": {
    "collapsed": false,
    "pycharm": {
     "name": "#%%\n"
    }
   }
  },
  {
   "cell_type": "code",
   "execution_count": 11,
   "outputs": [],
   "source": [
    "#Genera los sectores con sus zbs\n",
    "NUMERO_DE_SECTORES_A_GENERAR=5"
   ],
   "metadata": {
    "collapsed": false,
    "pycharm": {
     "name": "#%%\n"
    }
   }
  },
  {
   "cell_type": "code",
   "execution_count": 12,
   "outputs": [
    {
     "name": "stdout",
     "output_type": "stream",
     "text": [
      "[[12.  1.  2.]\n",
      " [ 7.  1.  0.]\n",
      " [ 8.  2.  8.]\n",
      " [ 8.  0.  5.]\n",
      " [14.  3.  0.]]\n"
     ]
    }
   ],
   "source": [
    "sectores_generados = np.random.multivariate_normal(np.mean(sectores,axis=1), np.cov(sectores), NUMERO_DE_SECTORES_A_GENERAR)\n",
    "sectores_generados[sectores_generados<0]=0\n",
    "sectores_generados=np.round(sectores_generados)\n",
    "print(sectores_generados)"
   ],
   "metadata": {
    "collapsed": false,
    "pycharm": {
     "name": "#%%\n"
    }
   }
  },
  {
   "cell_type": "code",
   "execution_count": 13,
   "outputs": [
    {
     "name": "stdout",
     "output_type": "stream",
     "text": [
      "[77, 9, 37]\n"
     ]
    }
   ],
   "source": [
    "#Cuenta el número zbs totales segun su tipo\n",
    "q1=\"select count(*) from mfm.mf_zbs where tipo ='\"\n",
    "q2=\"';\"\n",
    "nTipo_zbs=[]\n",
    "for i in range(0,len(tipo_zbs)):\n",
    "    res= dbOr.execute(text(q1+tipo_zbs[i]+q2))\n",
    "    nTipo_zbs.append(res.first()[0])\n",
    "    res.close()\n",
    "print(nTipo_zbs)"
   ],
   "metadata": {
    "collapsed": false,
    "pycharm": {
     "name": "#%%\n"
    }
   }
  },
  {
   "cell_type": "code",
   "execution_count": 14,
   "outputs": [],
   "source": [
    "tipo_AP = [\"MEDICINA FAMILIA\", \"PEDIATRIA AP\"]"
   ],
   "metadata": {
    "collapsed": false,
    "pycharm": {
     "name": "#%%\n"
    }
   }
  },
  {
   "cell_type": "code",
   "execution_count": 15,
   "outputs": [],
   "source": [
    "#Cuenta el numero de cias de AP segun su tipo en cada tipo de zbs\n",
    "q1=\"select mz.code, coalesce(_count,0)  from (select zbs_cd as z , count(*) as _count from mfm.mf_cias_v2 where speciality_st = '\"\n",
    "q2=\"' group by zbs_cd) as s right join mfm.mf_zbs as mz on s.z=mz.code where mz.tipo='\"\n",
    "q3=\"' order by mz.code;\"\n",
    "cias=[]\n",
    "for i in range(0,len(tipo_zbs)):\n",
    "    cias_por_tipo = np.zeros([len(tipo_AP),nTipo_zbs[i]])\n",
    "    for j in range(0,len(tipo_AP)):\n",
    "        res= dbOr.execute(text(q1+tipo_AP[j]+q2+tipo_zbs[i]+q3))\n",
    "        k=0\n",
    "        for r in res:\n",
    "            cias_por_tipo[j,k]=r[1]\n",
    "            k+=1\n",
    "        res.close()\n",
    "    cias.append(cias_por_tipo)"
   ],
   "metadata": {
    "collapsed": false,
    "pycharm": {
     "name": "#%%\n"
    }
   }
  },
  {
   "cell_type": "code",
   "execution_count": 16,
   "outputs": [],
   "source": [
    "#Genero los cias de AP en las zbs creadas\n",
    "cias_generados=[]\n",
    "for i in range(0,len(tipo_zbs)):\n",
    "    cias_generado=np.random.multivariate_normal(np.mean(cias[i],axis=1), np.cov(cias[i]),np.sum(sectores_generados,axis=0).astype(int)[i] )\n",
    "    cias_generado[cias_generado<0]=0\n",
    "    cias_generado=np.round(cias_generado)\n",
    "    cias_generados.append(cias_generado)\n",
    "#print(cias_generados)\n"
   ],
   "metadata": {
    "collapsed": false,
    "pycharm": {
     "name": "#%%\n"
    }
   }
  },
  {
   "cell_type": "code",
   "execution_count": 17,
   "outputs": [],
   "source": [
    "#Inserto en la BBDD destino los sectores,zbs y cias generados\n",
    "i=0\n",
    "idsZ=0\n",
    "idsC=0\n",
    "indice_tipos_cias=np.zeros([len(tipo_zbs)]).astype(int)\n",
    "for sector in sectores_generados:\n",
    "    s = gf.generar_sector(i)\n",
    "    ins_sec = t_mf_sector.insert().values(s)\n",
    "    dbDes.execute(ins_sec)\n",
    "    for k in range(0,len(tipo_zbs)):\n",
    "        j=0\n",
    "        while j < sector[k]:\n",
    "            zbs = gf.generar_zbs(idsZ,tipo_zbs[k],s)\n",
    "            dbDes.execute(t_mf_zbs.insert().values(zbs))\n",
    "            cias_g=cias_generados[k][indice_tipos_cias[k]]\n",
    "            indice_tipos_cias[k]+=1\n",
    "            l=0\n",
    "            while l < len(tipo_AP):\n",
    "                sp={\"code\": l, \"st\": tipo_AP[l]}\n",
    "                m=0\n",
    "                while m < cias_g[l]:\n",
    "                    ci = gf.generar_cias(idsC,sp,s,zbs)\n",
    "                    dbDes.execute(t_mf_cias_v2.insert().values(ci))\n",
    "                    idsC+=1\n",
    "                    m+=1\n",
    "                l+=1\n",
    "            idsZ+=1\n",
    "            j+=1\n",
    "    i+=1"
   ],
   "metadata": {
    "collapsed": false,
    "pycharm": {
     "name": "#%%\n"
    }
   }
  },
  {
   "cell_type": "code",
   "execution_count": 18,
   "outputs": [],
   "source": [
    "#Crea la tabla con la equivalencia entre los antiguos y nuevos usuarios\n",
    "if not dbDes.dialect.has_schema(dbDes, 'gn'):\n",
    "    dbDes.execute(CreateSchema('gn'))\n",
    "metadata_g.create_all(dbDes)"
   ],
   "metadata": {
    "collapsed": false,
    "pycharm": {
     "name": "#%%\n"
    }
   }
  },
  {
   "cell_type": "code",
   "execution_count": 19,
   "outputs": [],
   "source": [
    "query=\"select * from (select id, sexo, nacimiento_dt, zbs_cd, sector_cd from mfm.mf_usuarios where active=true) as us join\"\\\n",
    "      \"(select id, tipo from mfm.mf_zbs) as zb on zb.id=us.zbs_cd;\"\n",
    "res = dbOr.execute(text(query))\n",
    "i=0\n",
    "for r in res:\n",
    "\n",
    "    #dias desplazados\n",
    "    dias=np.random.randint(0,365)\n",
    "    nacimiento=r[2]-datetime.timedelta(days=dias)\n",
    "\n",
    "    #calcula edad\n",
    "    edad=datetime.date.today().year-nacimiento.year\n",
    "    if nacimiento.month>datetime.date.today().month:\n",
    "        edad=edad-1\n",
    "    elif nacimiento.month==datetime.date.today().month \\\n",
    "        and nacimiento.day>=datetime.date.today().day:\n",
    "        edad=edad-1\n",
    "    #decide entre medico de familia y pediatra segun edad (mayor o menor de 14)\n",
    "    if edad>=14:\n",
    "        u_AP=0\n",
    "    else:\n",
    "        u_AP=1\n",
    "\n",
    "\n",
    "    #selecciona el tipo de zbs\n",
    "    tipo=tipo_zbs.index(r[6])\n",
    "    u = np.random.randint(1,10)\n",
    "    aux=0\n",
    "    if u<8:\n",
    "        aux=0\n",
    "    elif u<9:\n",
    "        aux=1\n",
    "    else:\n",
    "        aux=2\n",
    "\n",
    "    tipo_n=(tipo+aux) % 3\n",
    "\n",
    "    repito=True\n",
    "    while repito:\n",
    "    #selecciona nuevo sector\n",
    "        noseleccionado=True\n",
    "        sector=np.random.randint(0,NUMERO_DE_SECTORES_A_GENERAR-1)\n",
    "        while noseleccionado:\n",
    "            query=\"select count(*) from mfm.mf_zbs where sector_id=\"+str(sector)+\" and tipo='\"+tipo_zbs[tipo_n]+\"';\"\n",
    "            if dbDes.execute(text(query)).first()[0]==0:\n",
    "                sector=(sector+1) % NUMERO_DE_SECTORES_A_GENERAR\n",
    "            else:\n",
    "                noseleccionado=False\n",
    "\n",
    "    #selecciona zbs\n",
    "        query=\"select min(cast(id as int)),max(cast(id as int)) from mfm.mf_zbs where sector_id=\"+str(sector)+\" and tipo='\"+tipo_zbs[tipo_n]+\"';\"\n",
    "        res_zbs=dbDes.execute(text(query))\n",
    "        res_zbs_id=res_zbs.first()\n",
    "        minimo=int(res_zbs_id[0])\n",
    "        maximo=int(res_zbs_id[1])\n",
    "        if minimo==maximo:\n",
    "            zbs=res_zbs_id[0]\n",
    "            query=\"select count(*) from mfm.mf_cias_v2 where zbs_cd='\"+str(zbs)+\"' and speciality_st='\"+tipo_AP[u_AP]+\"';\"\n",
    "            res_hay_cias=dbDes.execute(text(query))\n",
    "            res_hay=res_hay_cias.first()\n",
    "            if res_hay[0] > 0:\n",
    "                repito = False\n",
    "        else:\n",
    "            noListo=True\n",
    "            while noListo:\n",
    "                zbs=np.random.randint(res_zbs_id[0],res_zbs_id[1])\n",
    "                query=\"select count(*) from mfm.mf_cias_v2 where zbs_cd='\"+str(zbs)+\"' and speciality_st='\"+tipo_AP[u_AP]+\"';\"\n",
    "                res_hay_cias=dbDes.execute(text(query))\n",
    "                res_hay=res_hay_cias.first()\n",
    "                if res_hay[0] > 0:\n",
    "                    noListo = False\n",
    "                    repito = False\n",
    "\n",
    "\n",
    "    #selecciona cias\n",
    "    query=\"select min(cast(code as int)), max(cast(code as int)) from mfm.mf_cias_v2 where zbs_cd='\"+str(zbs)+\"' and speciality_st='\"+tipo_AP[u_AP]+\"';\"\n",
    "    res_cias=dbDes.execute(text(query))\n",
    "    res_cias_id=res_cias.first()\n",
    "    minimo=int(res_cias_id[0])\n",
    "    maximo=int(res_cias_id[1])\n",
    "    if minimo==maximo:\n",
    "        cias=res_cias_id[0]\n",
    "    else:\n",
    "        cias=np.random.randint(res_cias_id[0],res_cias_id[1])\n",
    "\n",
    "\n",
    "    #inserta el nuevo usuario en la BD destino e inserta la equivalencia con el antiguo usuario\n",
    "    us = gf.generar_usuario(i,r[1],nacimiento,zbs,sector,cias)\n",
    "    ins_us = t_mf_usuarios.insert().values(us)\n",
    "    eq = gf.generar_eq(r[0],i,dias)\n",
    "    ins_eq = t_gn_equivalente.insert().values(eq)\n",
    "    dbDes.execute(ins_us)\n",
    "    dbDes.execute(ins_eq)\n",
    "    i+=1\n",
    "res.close()"
   ],
   "metadata": {
    "collapsed": false,
    "pycharm": {
     "name": "#%%\n"
    }
   }
  },
  {
   "cell_type": "code",
   "execution_count": 20,
   "outputs": [],
   "source": [
    "#Crea las tablas del esquema origen\n",
    "if not dbDes.dialect.has_schema(dbDes, 'origen'):\n",
    "    dbDes.execute(CreateSchema('origen'))\n",
    "metadata_or.create_all(dbDes)"
   ],
   "metadata": {
    "collapsed": false,
    "pycharm": {
     "name": "#%%\n"
    }
   }
  },
  {
   "cell_type": "code",
   "execution_count": 21,
   "outputs": [],
   "source": [
    "query=\"select * from gn.gn_equivalente;\"\n",
    "usuario=dbDes.execute(text(query))\n",
    "u_eq=np.array(usuario.fetchall())"
   ],
   "metadata": {
    "collapsed": false,
    "pycharm": {
     "name": "#%%\n"
    }
   }
  },
  {
   "cell_type": "code",
   "execution_count": 22,
   "outputs": [],
   "source": [
    "#Inserto datos en la tabla diag_ap\n",
    "query=\"select * from origen.diag_ap;\"\n",
    "res = dbOr.execute(text(query))\n",
    "for r in res:\n",
    "    #print(r)\n",
    "    u=u_eq[np.where(u_eq[:,0] == r[0])[0]]\n",
    "    if u.size==0:\n",
    "        #print(\"usuario no existe\")\n",
    "        pass\n",
    "    elif np.random.randint(0, 100)<=98:\n",
    "        id=u[0][1]\n",
    "        ruido=fr.ruido()\n",
    "        fecha_i=fr.correrFecha(r[4],(u[0][2]+ruido).item())\n",
    "        existe_fecha_f=False\n",
    "        if r[5] is not None:\n",
    "            fecha_f=fr.correrFecha(r[5],(u[0][2]+ruido).item())\n",
    "            existe_fecha_f=True\n",
    "        else:\n",
    "            fecha_f=0\n",
    "        episodio=fr.aplicarHash(r[1])\n",
    "        fila_diag_ap=gf.generar_diag_ap(id.item(),episodio,r[2],r[3],fecha_i,fecha_f,existe_fecha_f)\n",
    "        ins_diag_ap=t_diag_ap.insert().values(fila_diag_ap)\n",
    "        dbDes.execute(ins_diag_ap)"
   ],
   "metadata": {
    "collapsed": false,
    "pycharm": {
     "name": "#%%\n"
    }
   }
  },
  {
   "cell_type": "code",
   "execution_count": 23,
   "outputs": [],
   "source": [
    "#Inserto datos en la tabla visits_pc\n",
    "query=\"select * from origen.visits_pc;\"\n",
    "res = dbOr.execute(text(query))\n",
    "for r in res:\n",
    "    #print(r)\n",
    "    u=u_eq[np.where(u_eq[:,0] == r[0])[0]]\n",
    "    if u.size==0:\n",
    "        #print(\"usuario no existe\")\n",
    "        pass\n",
    "    elif np.random.randint(0, 100)<=98:\n",
    "        id=u[0][1]\n",
    "        ruido=fr.ruido()\n",
    "        fecha=fr.correrFecha(r[4],(u[0][2]+ruido).item())\n",
    "        fila_visits_pc=gf.generar_visits_pc(id.item(),r[1],r[2],fecha,r[5],r[6],r[7])\n",
    "        #print(fila_visits_pc)\n",
    "        ins_visits_pc=t_visits_pc.insert().values(fila_visits_pc)\n",
    "        dbDes.execute(ins_visits_pc)"
   ],
   "metadata": {
    "collapsed": false,
    "pycharm": {
     "name": "#%%\n"
    }
   }
  },
  {
   "cell_type": "code",
   "execution_count": 24,
   "outputs": [],
   "source": [
    "#Inserto datos en la tabla visits_sc\n",
    "query=\"select * from origen.visits_sc;\"\n",
    "res = dbOr.execute(text(query))\n",
    "for r in res:\n",
    "    #print(r)\n",
    "    u=u_eq[np.where(u_eq[:,0] == r[0])[0]]\n",
    "    if u.size==0:\n",
    "        #print(\"usuario no existe\")\n",
    "        pass\n",
    "    elif np.random.randint(1, 100)<=98:\n",
    "        id=u[0][1]\n",
    "        ruido=fr.ruido()\n",
    "        fecha=fr.correrFecha(r[5],(u[0][2]+ruido).item())\n",
    "        if np.random.randint(1, 10)<=9:\n",
    "            query=\"select sector_cd from mfm.mf_usuarios where id='\"+str(id.item())+\"' ;\"\n",
    "            res_hospital = dbDes.execute(text(query))\n",
    "            res_h_a=np.array(res_hospital.fetchall())\n",
    "            id_hospital=(res_h_a[0][0]).item()\n",
    "            hospital=\"HOSPITAL \"+str(id_hospital)\n",
    "        else:\n",
    "            id_hospital=np.random.randint(0,NUMERO_DE_SECTORES_A_GENERAR)\n",
    "            hospital=\"HOSPITAL \"+str(id_hospital)\n",
    "\n",
    "        fila_visits_sc=gf.generar_visits_sc(id.item(),id_hospital,hospital,fecha,r[6],\n",
    "                                            r[7],r[8],r[9],r[10],r[11],r[12],r[13],r[14],\n",
    "                                            r[15])\n",
    "        ins_visits_sc=t_visits_sc.insert().values(fila_visits_sc)\n",
    "        dbDes.execute(ins_visits_sc)"
   ],
   "metadata": {
    "collapsed": false,
    "pycharm": {
     "name": "#%%\n"
    }
   }
  },
  {
   "cell_type": "code",
   "execution_count": 25,
   "outputs": [],
   "source": [
    "#Inserto datos en la tabla visits_er\n",
    "query=\"select * from origen.visits_er;\"\n",
    "res = dbOr.execute(text(query))\n",
    "\n",
    "for r in res:\n",
    "    #print(r)\n",
    "    u=u_eq[np.where(u_eq[:,0] == r[0])[0]]\n",
    "    if u.size==0:\n",
    "        #print(\"usuario no existe\")\n",
    "        pass\n",
    "    elif np.random.randint(1, 100)<=98:\n",
    "        datos=[]\n",
    "        id=u[0][1]\n",
    "        datos.append(id.item())\n",
    "        datos.extend(r[1:4])\n",
    "        ruido=fr.ruido()\n",
    "        ruidoHora=fr.ruidoHora()\n",
    "        fecha=fr.correrFecha(r[4],(u[0][2]+ruido).item())-ruidoHora\n",
    "        datos.append(fecha)\n",
    "        if np.random.randint(1, 10)<=9:\n",
    "            query=\"select sector_cd from mfm.mf_usuarios where id='\"+str(id.item())+\"' ;\"\n",
    "            res_hospital = dbDes.execute(text(query))\n",
    "            res_h_a=np.array(res_hospital.fetchall())\n",
    "            id_hospital=(res_h_a[0][0]).item()\n",
    "            hospital=\"HOSPITAL \"+str(id_hospital)\n",
    "        else:\n",
    "            id_hospital=np.random.randint(0,NUMERO_DE_SECTORES_A_GENERAR)\n",
    "            hospital=\"HOSPITAL \"+str(id_hospital)\n",
    "        datos.append(id_hospital)\n",
    "        datos.append(hospital)\n",
    "        datos.extend(r[7:22])\n",
    "        if r[22]:\n",
    "            datos.append(fr.correrFecha(r[22],(u[0][2]+ruido).item())-ruidoHora)\n",
    "        else:\n",
    "            datos.append(None)\n",
    "        datos.extend(r[23:25])\n",
    "        datos.append(fr.correrFecha(r[25],(u[0][2]+ruido).item())-ruidoHora)\n",
    "        datos.append(fr.correrFecha(r[26],(u[0][2]+ruido).item())-ruidoHora)\n",
    "        datos.append(fr.correrFecha(r[27],(u[0][2]+ruido).item())-ruidoHora)\n",
    "        datos.append(r[28])\n",
    "\n",
    "        fila_visits_er=gf.generar_fila(t_visits_er.columns.keys(),datos)\n",
    "        ins_visits_er=t_visits_er.insert().values(fila_visits_er)\n",
    "        dbDes.execute(ins_visits_er)"
   ],
   "metadata": {
    "collapsed": false,
    "pycharm": {
     "name": "#%%\n"
    }
   }
  },
  {
   "cell_type": "code",
   "execution_count": 26,
   "outputs": [],
   "source": [
    "#Inserto datos en la tabla cmbd\n",
    "query=\"select * from origen.cmbd;\"\n",
    "res = dbOr.execute(text(query))\n",
    "\n",
    "for r in res:\n",
    "    #print(r)\n",
    "    u=u_eq[np.where(u_eq[:,0] == r[0])[0]]\n",
    "    if u.size==0:\n",
    "        #print(\"usuario no existe\")\n",
    "        pass\n",
    "    elif np.random.randint(1, 100)<=98:\n",
    "        datos=[]\n",
    "        id=u[0][1]\n",
    "        datos.append(id.item())\n",
    "        if np.random.randint(1, 10)<=9:\n",
    "            query=\"select sector_cd from mfm.mf_usuarios where id='\"+str(id.item())+\"' ;\"\n",
    "            res_hospital = dbDes.execute(text(query))\n",
    "            res_h_a=np.array(res_hospital.fetchall())\n",
    "            id_hospital=(res_h_a[0][0]).item()\n",
    "            hospital=\"HOSPITAL \"+str(id_hospital)\n",
    "        else:\n",
    "            id_hospital=np.random.randint(0,NUMERO_DE_SECTORES_A_GENERAR)\n",
    "            hospital=\"HOSPITAL \"+str(id_hospital)\n",
    "        datos.append(id_hospital)\n",
    "        datos.append(hospital)\n",
    "        datos.append(fr.correrFecha(r[3],(u[0][2]+ruido).item()))\n",
    "        datos.append(r[4])\n",
    "        datos.append(fr.correrFecha(r[5],(u[0][2]+ruido).item()))\n",
    "        datos.extend(r[6:55])\n",
    "        if r[55]:\n",
    "            datos.append(fr.correrFecha(r[55],(u[0][2]+ruido).item()))\n",
    "        else:\n",
    "            datos.append(None)\n",
    "        datos.extend(r[56:69])\n",
    "        fila_cmbd=gf.generar_fila(t_cmbd.columns.keys(),datos)\n",
    "        ins_cmbd=t_cmbd.insert().values(fila_cmbd)\n",
    "        dbDes.execute(ins_cmbd)"
   ],
   "metadata": {
    "collapsed": false,
    "pycharm": {
     "name": "#%%\n"
    }
   }
  },
  {
   "cell_type": "code",
   "execution_count": 27,
   "outputs": [],
   "source": [
    "#Inserto datos en la tabla phar_presc\n",
    "query=\"select * from origen.phar_presc;\"\n",
    "res = dbOr.execute(text(query))\n",
    "\n",
    "for r in res:\n",
    "    #print(r)\n",
    "    u=u_eq[np.where(u_eq[:,0] == r[0])[0]]\n",
    "    if u.size==0:\n",
    "        #print(\"usuario no existe\")\n",
    "        pass\n",
    "    elif np.random.randint(1, 100)<=98:\n",
    "        datos=[]\n",
    "        id=u[0][1]\n",
    "        datos.append(id.item())\n",
    "        ruido=fr.ruido()\n",
    "        fecha=fr.correrFecha(r[3],(u[0][2]+ruido).item())\n",
    "        datos.append(fecha.year)\n",
    "        datos.append(fecha.year*100+fecha.month)\n",
    "        datos.append(fecha)\n",
    "        datos.append(fr.aplicarHash(r[4]))\n",
    "        datos.append(None)\n",
    "        datos.extend(r[6:8])\n",
    "        datos.append(fr.correrFecha(r[8],(u[0][2]+ruido).item()))\n",
    "        datos.append(fr.correrFecha(r[9],(u[0][2]+ruido).item()))\n",
    "        datos.extend(r[10:26])\n",
    "        if r[26]:\n",
    "            datos.append(fr.aplicarHash(r[26]))\n",
    "        else:\n",
    "            datos.append(None)\n",
    "        datos.append(r[27])\n",
    "\n",
    "        query_cias=\"select cias_cd from mfm.mf_usuarios where id='\"+str(id.item())+\"';\"\n",
    "        res_cias = dbDes.execute(text(query_cias))\n",
    "        datos.append(res_cias.first()[0])\n",
    "\n",
    "        datos.extend(r[29:31])\n",
    "        datos.append(fr.aplicarHash(r[31]))\n",
    "        datos.append(fr.aplicarHash(r[32]))\n",
    "\n",
    "        fila_phar=gf.generar_fila(t_phar_presc.columns.keys(),datos)\n",
    "        ins_phar=t_phar_presc.insert().values(fila_phar)\n",
    "        dbDes.execute(ins_phar)"
   ],
   "metadata": {
    "collapsed": false,
    "pycharm": {
     "name": "#%%\n"
    }
   }
  },
  {
   "cell_type": "code",
   "execution_count": 28,
   "outputs": [],
   "source": [
    "dbDes.close()\n",
    "dbDestino.dispose()\n",
    "dbOr.close()\n",
    "dbOrigen.dispose()"
   ],
   "metadata": {
    "collapsed": false,
    "pycharm": {
     "name": "#%%\n"
    }
   }
  },
  {
   "cell_type": "code",
   "execution_count": null,
   "outputs": [],
   "source": [],
   "metadata": {
    "collapsed": false,
    "pycharm": {
     "name": "#%%\n"
    }
   }
  }
 ],
 "metadata": {
  "kernelspec": {
   "display_name": "Python 3",
   "language": "python",
   "name": "python3"
  },
  "language_info": {
   "codemirror_mode": {
    "name": "ipython",
    "version": 2
   },
   "file_extension": ".py",
   "mimetype": "text/x-python",
   "name": "python",
   "nbconvert_exporter": "python",
   "pygments_lexer": "ipython2",
   "version": "2.7.6"
  }
 },
 "nbformat": 4,
 "nbformat_minor": 0
}